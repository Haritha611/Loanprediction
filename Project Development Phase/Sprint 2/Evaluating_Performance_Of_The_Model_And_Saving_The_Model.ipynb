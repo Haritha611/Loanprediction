{
  "nbformat": 4,
  "nbformat_minor": 0,
  "metadata": {
    "colab": {
      "provenance": []
    },
    "kernelspec": {
      "name": "python3",
      "display_name": "Python 3"
    },
    "language_info": {
      "name": "python"
    }
  },
  "cells": [
    {
      "cell_type": "markdown",
      "source": [
        "Importing Libraries"
      ],
      "metadata": {
        "id": "SlYk2kDN1unC"
      }
    },
    {
      "cell_type": "code",
      "execution_count": 20,
      "metadata": {
        "id": "WkzcTYzjyO9A"
      },
      "outputs": [],
      "source": [
        "import numpy as np \n",
        "import pandas as pd\n",
        "from imblearn.combine import SMOTETomek\n",
        "from sklearn.preprocessing import LabelEncoder\n",
        "from sklearn.preprocessing import StandardScaler\n",
        "from sklearn.model_selection import train_test_split\n",
        "from sklearn.metrics import accuracy_score,confusion_matrix,classification_report,f1_score\n",
        "from sklearn.ensemble import RandomForestClassifier\n",
        "from sklearn.tree import DecisionTreeClassifier\n",
        "from sklearn.neighbors import KNeighborsClassifier\n",
        "from sklearn.ensemble import  GradientBoostingClassifier"
      ]
    },
    {
      "cell_type": "markdown",
      "source": [
        "Reading Dataset\n"
      ],
      "metadata": {
        "id": "YKCT_Osy1xP4"
      }
    },
    {
      "cell_type": "code",
      "source": [
        "data=pd.read_csv(\"/content/Loan_Prediction.csv\")\n",
        "data.head()"
      ],
      "metadata": {
        "colab": {
          "base_uri": "https://localhost:8080/",
          "height": 287
        },
        "id": "1zGG1eg3y11T",
        "outputId": "459378b9-cad5-4dff-8896-8bcbe600af50"
      },
      "execution_count": 21,
      "outputs": [
        {
          "output_type": "execute_result",
          "data": {
            "text/plain": [
              "    Loan_ID Gender Married Dependents     Education Self_Employed  \\\n",
              "0  LP001002   Male      No          0      Graduate            No   \n",
              "1  LP001003   Male     Yes          1      Graduate            No   \n",
              "2  LP001005   Male     Yes          0      Graduate           Yes   \n",
              "3  LP001006   Male     Yes          0  Not Graduate            No   \n",
              "4  LP001008   Male      No          0      Graduate            No   \n",
              "\n",
              "   ApplicantIncome  CoapplicantIncome  LoanAmount  Loan_Amount_Term  \\\n",
              "0             5849                0.0         NaN             360.0   \n",
              "1             4583             1508.0       128.0             360.0   \n",
              "2             3000                0.0        66.0             360.0   \n",
              "3             2583             2358.0       120.0             360.0   \n",
              "4             6000                0.0       141.0             360.0   \n",
              "\n",
              "   Credit_History Property_Area Loan_Status  \n",
              "0             1.0         Urban           Y  \n",
              "1             1.0         Rural           N  \n",
              "2             1.0         Urban           Y  \n",
              "3             1.0         Urban           Y  \n",
              "4             1.0         Urban           Y  "
            ],
            "text/html": [
              "\n",
              "  <div id=\"df-010a48ff-6013-473f-a67a-3ed0e6893382\">\n",
              "    <div class=\"colab-df-container\">\n",
              "      <div>\n",
              "<style scoped>\n",
              "    .dataframe tbody tr th:only-of-type {\n",
              "        vertical-align: middle;\n",
              "    }\n",
              "\n",
              "    .dataframe tbody tr th {\n",
              "        vertical-align: top;\n",
              "    }\n",
              "\n",
              "    .dataframe thead th {\n",
              "        text-align: right;\n",
              "    }\n",
              "</style>\n",
              "<table border=\"1\" class=\"dataframe\">\n",
              "  <thead>\n",
              "    <tr style=\"text-align: right;\">\n",
              "      <th></th>\n",
              "      <th>Loan_ID</th>\n",
              "      <th>Gender</th>\n",
              "      <th>Married</th>\n",
              "      <th>Dependents</th>\n",
              "      <th>Education</th>\n",
              "      <th>Self_Employed</th>\n",
              "      <th>ApplicantIncome</th>\n",
              "      <th>CoapplicantIncome</th>\n",
              "      <th>LoanAmount</th>\n",
              "      <th>Loan_Amount_Term</th>\n",
              "      <th>Credit_History</th>\n",
              "      <th>Property_Area</th>\n",
              "      <th>Loan_Status</th>\n",
              "    </tr>\n",
              "  </thead>\n",
              "  <tbody>\n",
              "    <tr>\n",
              "      <th>0</th>\n",
              "      <td>LP001002</td>\n",
              "      <td>Male</td>\n",
              "      <td>No</td>\n",
              "      <td>0</td>\n",
              "      <td>Graduate</td>\n",
              "      <td>No</td>\n",
              "      <td>5849</td>\n",
              "      <td>0.0</td>\n",
              "      <td>NaN</td>\n",
              "      <td>360.0</td>\n",
              "      <td>1.0</td>\n",
              "      <td>Urban</td>\n",
              "      <td>Y</td>\n",
              "    </tr>\n",
              "    <tr>\n",
              "      <th>1</th>\n",
              "      <td>LP001003</td>\n",
              "      <td>Male</td>\n",
              "      <td>Yes</td>\n",
              "      <td>1</td>\n",
              "      <td>Graduate</td>\n",
              "      <td>No</td>\n",
              "      <td>4583</td>\n",
              "      <td>1508.0</td>\n",
              "      <td>128.0</td>\n",
              "      <td>360.0</td>\n",
              "      <td>1.0</td>\n",
              "      <td>Rural</td>\n",
              "      <td>N</td>\n",
              "    </tr>\n",
              "    <tr>\n",
              "      <th>2</th>\n",
              "      <td>LP001005</td>\n",
              "      <td>Male</td>\n",
              "      <td>Yes</td>\n",
              "      <td>0</td>\n",
              "      <td>Graduate</td>\n",
              "      <td>Yes</td>\n",
              "      <td>3000</td>\n",
              "      <td>0.0</td>\n",
              "      <td>66.0</td>\n",
              "      <td>360.0</td>\n",
              "      <td>1.0</td>\n",
              "      <td>Urban</td>\n",
              "      <td>Y</td>\n",
              "    </tr>\n",
              "    <tr>\n",
              "      <th>3</th>\n",
              "      <td>LP001006</td>\n",
              "      <td>Male</td>\n",
              "      <td>Yes</td>\n",
              "      <td>0</td>\n",
              "      <td>Not Graduate</td>\n",
              "      <td>No</td>\n",
              "      <td>2583</td>\n",
              "      <td>2358.0</td>\n",
              "      <td>120.0</td>\n",
              "      <td>360.0</td>\n",
              "      <td>1.0</td>\n",
              "      <td>Urban</td>\n",
              "      <td>Y</td>\n",
              "    </tr>\n",
              "    <tr>\n",
              "      <th>4</th>\n",
              "      <td>LP001008</td>\n",
              "      <td>Male</td>\n",
              "      <td>No</td>\n",
              "      <td>0</td>\n",
              "      <td>Graduate</td>\n",
              "      <td>No</td>\n",
              "      <td>6000</td>\n",
              "      <td>0.0</td>\n",
              "      <td>141.0</td>\n",
              "      <td>360.0</td>\n",
              "      <td>1.0</td>\n",
              "      <td>Urban</td>\n",
              "      <td>Y</td>\n",
              "    </tr>\n",
              "  </tbody>\n",
              "</table>\n",
              "</div>\n",
              "      <button class=\"colab-df-convert\" onclick=\"convertToInteractive('df-010a48ff-6013-473f-a67a-3ed0e6893382')\"\n",
              "              title=\"Convert this dataframe to an interactive table.\"\n",
              "              style=\"display:none;\">\n",
              "        \n",
              "  <svg xmlns=\"http://www.w3.org/2000/svg\" height=\"24px\"viewBox=\"0 0 24 24\"\n",
              "       width=\"24px\">\n",
              "    <path d=\"M0 0h24v24H0V0z\" fill=\"none\"/>\n",
              "    <path d=\"M18.56 5.44l.94 2.06.94-2.06 2.06-.94-2.06-.94-.94-2.06-.94 2.06-2.06.94zm-11 1L8.5 8.5l.94-2.06 2.06-.94-2.06-.94L8.5 2.5l-.94 2.06-2.06.94zm10 10l.94 2.06.94-2.06 2.06-.94-2.06-.94-.94-2.06-.94 2.06-2.06.94z\"/><path d=\"M17.41 7.96l-1.37-1.37c-.4-.4-.92-.59-1.43-.59-.52 0-1.04.2-1.43.59L10.3 9.45l-7.72 7.72c-.78.78-.78 2.05 0 2.83L4 21.41c.39.39.9.59 1.41.59.51 0 1.02-.2 1.41-.59l7.78-7.78 2.81-2.81c.8-.78.8-2.07 0-2.86zM5.41 20L4 18.59l7.72-7.72 1.47 1.35L5.41 20z\"/>\n",
              "  </svg>\n",
              "      </button>\n",
              "      \n",
              "  <style>\n",
              "    .colab-df-container {\n",
              "      display:flex;\n",
              "      flex-wrap:wrap;\n",
              "      gap: 12px;\n",
              "    }\n",
              "\n",
              "    .colab-df-convert {\n",
              "      background-color: #E8F0FE;\n",
              "      border: none;\n",
              "      border-radius: 50%;\n",
              "      cursor: pointer;\n",
              "      display: none;\n",
              "      fill: #1967D2;\n",
              "      height: 32px;\n",
              "      padding: 0 0 0 0;\n",
              "      width: 32px;\n",
              "    }\n",
              "\n",
              "    .colab-df-convert:hover {\n",
              "      background-color: #E2EBFA;\n",
              "      box-shadow: 0px 1px 2px rgba(60, 64, 67, 0.3), 0px 1px 3px 1px rgba(60, 64, 67, 0.15);\n",
              "      fill: #174EA6;\n",
              "    }\n",
              "\n",
              "    [theme=dark] .colab-df-convert {\n",
              "      background-color: #3B4455;\n",
              "      fill: #D2E3FC;\n",
              "    }\n",
              "\n",
              "    [theme=dark] .colab-df-convert:hover {\n",
              "      background-color: #434B5C;\n",
              "      box-shadow: 0px 1px 3px 1px rgba(0, 0, 0, 0.15);\n",
              "      filter: drop-shadow(0px 1px 2px rgba(0, 0, 0, 0.3));\n",
              "      fill: #FFFFFF;\n",
              "    }\n",
              "  </style>\n",
              "\n",
              "      <script>\n",
              "        const buttonEl =\n",
              "          document.querySelector('#df-010a48ff-6013-473f-a67a-3ed0e6893382 button.colab-df-convert');\n",
              "        buttonEl.style.display =\n",
              "          google.colab.kernel.accessAllowed ? 'block' : 'none';\n",
              "\n",
              "        async function convertToInteractive(key) {\n",
              "          const element = document.querySelector('#df-010a48ff-6013-473f-a67a-3ed0e6893382');\n",
              "          const dataTable =\n",
              "            await google.colab.kernel.invokeFunction('convertToInteractive',\n",
              "                                                     [key], {});\n",
              "          if (!dataTable) return;\n",
              "\n",
              "          const docLinkHtml = 'Like what you see? Visit the ' +\n",
              "            '<a target=\"_blank\" href=https://colab.research.google.com/notebooks/data_table.ipynb>data table notebook</a>'\n",
              "            + ' to learn more about interactive tables.';\n",
              "          element.innerHTML = '';\n",
              "          dataTable['output_type'] = 'display_data';\n",
              "          await google.colab.output.renderOutput(dataTable, element);\n",
              "          const docLink = document.createElement('div');\n",
              "          docLink.innerHTML = docLinkHtml;\n",
              "          element.appendChild(docLink);\n",
              "        }\n",
              "      </script>\n",
              "    </div>\n",
              "  </div>\n",
              "  "
            ]
          },
          "metadata": {},
          "execution_count": 21
        }
      ]
    },
    {
      "cell_type": "code",
      "source": [
        "numerical_features = data.select_dtypes(include = [np.number]).columns\n",
        "categorical_features = data.select_dtypes(include = [np.object]).columns"
      ],
      "metadata": {
        "colab": {
          "base_uri": "https://localhost:8080/"
        },
        "id": "nQuFFKony1uw",
        "outputId": "32f4f50d-8e68-42e1-a9cd-bad1e0fa5223"
      },
      "execution_count": 22,
      "outputs": [
        {
          "output_type": "stream",
          "name": "stderr",
          "text": [
            "/usr/local/lib/python3.7/dist-packages/ipykernel_launcher.py:2: DeprecationWarning: `np.object` is a deprecated alias for the builtin `object`. To silence this warning, use `object` by itself. Doing this will not modify any behavior and is safe. \n",
            "Deprecated in NumPy 1.20; for more details and guidance: https://numpy.org/devdocs/release/1.20.0-notes.html#deprecations\n",
            "  \n"
          ]
        }
      ]
    },
    {
      "cell_type": "markdown",
      "source": [
        "Checking for Null Values"
      ],
      "metadata": {
        "id": "ac8gih-311K7"
      }
    },
    {
      "cell_type": "code",
      "source": [
        "data.isnull().sum()"
      ],
      "metadata": {
        "colab": {
          "base_uri": "https://localhost:8080/"
        },
        "id": "LkqjMgjEy1xM",
        "outputId": "bb7c99ac-a1fa-4c70-9177-4f51da7061c6"
      },
      "execution_count": 23,
      "outputs": [
        {
          "output_type": "execute_result",
          "data": {
            "text/plain": [
              "Loan_ID               0\n",
              "Gender               13\n",
              "Married               3\n",
              "Dependents           15\n",
              "Education             0\n",
              "Self_Employed        32\n",
              "ApplicantIncome       0\n",
              "CoapplicantIncome     0\n",
              "LoanAmount           22\n",
              "Loan_Amount_Term     14\n",
              "Credit_History       50\n",
              "Property_Area         0\n",
              "Loan_Status           0\n",
              "dtype: int64"
            ]
          },
          "metadata": {},
          "execution_count": 23
        }
      ]
    },
    {
      "cell_type": "markdown",
      "source": [
        "Replacing Null Values with Mode and Median"
      ],
      "metadata": {
        "id": "kwR8UIf314DG"
      }
    },
    {
      "cell_type": "code",
      "source": [
        "data['Gender'] = data['Gender'].fillna(data['Gender'].mode()[0])\n",
        "data['Married'] = data['Married'].fillna(data['Married'].mode()[0])\n",
        "data['Dependents'] = data['Dependents'].str.replace('+','')\n",
        "data['Dependents'] = data['Dependents'].fillna(data['Dependents'].mode()[0])\n",
        "data['LoanAmount'] = data['LoanAmount'].fillna(data['LoanAmount'].mode()[0])\n",
        "data['Self_Employed'] = data['Self_Employed'].fillna(data['Self_Employed'].mode()[0])\n",
        "data['Loan_Amount_Term'] = data['Loan_Amount_Term'].fillna(data['Loan_Amount_Term'].mode()[0])\n",
        "data['Credit_History'] = data['Credit_History'].fillna(data['Credit_History'].mode()[0])"
      ],
      "metadata": {
        "colab": {
          "base_uri": "https://localhost:8080/"
        },
        "id": "wficOFFXy1ro",
        "outputId": "65255167-0c9f-4437-e380-88b45dd6063c"
      },
      "execution_count": 24,
      "outputs": [
        {
          "output_type": "stream",
          "name": "stderr",
          "text": [
            "/usr/local/lib/python3.7/dist-packages/ipykernel_launcher.py:3: FutureWarning: The default value of regex will change from True to False in a future version. In addition, single character regular expressions will *not* be treated as literal strings when regex=True.\n",
            "  This is separate from the ipykernel package so we can avoid doing imports until\n"
          ]
        }
      ]
    },
    {
      "cell_type": "markdown",
      "source": [
        "Verifying"
      ],
      "metadata": {
        "id": "M4Rv8EZl19eO"
      }
    },
    {
      "cell_type": "code",
      "source": [
        "data.isnull().sum()"
      ],
      "metadata": {
        "colab": {
          "base_uri": "https://localhost:8080/"
        },
        "id": "24oEZH5My1ig",
        "outputId": "8d628abf-79c1-4bbd-9358-58810302e921"
      },
      "execution_count": 25,
      "outputs": [
        {
          "output_type": "execute_result",
          "data": {
            "text/plain": [
              "Loan_ID              0\n",
              "Gender               0\n",
              "Married              0\n",
              "Dependents           0\n",
              "Education            0\n",
              "Self_Employed        0\n",
              "ApplicantIncome      0\n",
              "CoapplicantIncome    0\n",
              "LoanAmount           0\n",
              "Loan_Amount_Term     0\n",
              "Credit_History       0\n",
              "Property_Area        0\n",
              "Loan_Status          0\n",
              "dtype: int64"
            ]
          },
          "metadata": {},
          "execution_count": 25
        }
      ]
    },
    {
      "cell_type": "markdown",
      "source": [
        "Conversion to Numerical Values"
      ],
      "metadata": {
        "id": "RACaUdyN1_MA"
      }
    },
    {
      "cell_type": "code",
      "source": [
        "data['Gender'].replace({'Male':1,'Female':0},inplace=True)\n",
        "data['Dependents'].replace({'0':0,'1':1,'2':2,'3':3},inplace=True)\n",
        "data['Married'].replace({'Yes':1,'No':0},inplace=True)\n",
        "data['Self_Employed'].replace({'Yes':1,'No':0},inplace=True)\n",
        "data['Property_Area'].replace({'Urban':2,'Rural':0,'Semiurban':1},inplace=True)\n",
        "data['Education'].replace({'Graduate':1,'Not Graduate':0},inplace=True)\n",
        "data['Loan_Status'].replace({'Y':1,'N':0},inplace=True)"
      ],
      "metadata": {
        "id": "ycMqZiCGy1gE"
      },
      "execution_count": 26,
      "outputs": []
    },
    {
      "cell_type": "code",
      "source": [
        "data['CoapplicantIncome']=data['CoapplicantIncome'].astype(\"int64\")\n",
        "data['LoanAmount']=data['LoanAmount'].astype(\"int64\")\n",
        "data['Loan_Amount_Term']=data['Loan_Amount_Term'].astype(\"int64\")\n",
        "data['Credit_History']=data['Credit_History'].astype(\"int64\")"
      ],
      "metadata": {
        "id": "Ni-Bo_3-y1dw"
      },
      "execution_count": 27,
      "outputs": []
    },
    {
      "cell_type": "markdown",
      "source": [
        "Label Encoding"
      ],
      "metadata": {
        "id": "x-tzJQAz2CK3"
      }
    },
    {
      "cell_type": "code",
      "source": [
        "le = LabelEncoder()\n",
        "data['Loan_ID'] = le.fit_transform(data.Loan_ID)\n",
        "data.head()"
      ],
      "metadata": {
        "colab": {
          "base_uri": "https://localhost:8080/",
          "height": 270
        },
        "id": "yzvHyqCzy1ba",
        "outputId": "86893cb2-3631-4964-bbea-657ae0c37b11"
      },
      "execution_count": 28,
      "outputs": [
        {
          "output_type": "execute_result",
          "data": {
            "text/plain": [
              "   Loan_ID  Gender  Married  Dependents  Education  Self_Employed  \\\n",
              "0        0       1        0           0          1              0   \n",
              "1        1       1        1           1          1              0   \n",
              "2        2       1        1           0          1              1   \n",
              "3        3       1        1           0          0              0   \n",
              "4        4       1        0           0          1              0   \n",
              "\n",
              "   ApplicantIncome  CoapplicantIncome  LoanAmount  Loan_Amount_Term  \\\n",
              "0             5849                  0         120               360   \n",
              "1             4583               1508         128               360   \n",
              "2             3000                  0          66               360   \n",
              "3             2583               2358         120               360   \n",
              "4             6000                  0         141               360   \n",
              "\n",
              "   Credit_History  Property_Area  Loan_Status  \n",
              "0               1              2            1  \n",
              "1               1              0            0  \n",
              "2               1              2            1  \n",
              "3               1              2            1  \n",
              "4               1              2            1  "
            ],
            "text/html": [
              "\n",
              "  <div id=\"df-f35b5093-aa99-41ee-b20e-5a1a11933595\">\n",
              "    <div class=\"colab-df-container\">\n",
              "      <div>\n",
              "<style scoped>\n",
              "    .dataframe tbody tr th:only-of-type {\n",
              "        vertical-align: middle;\n",
              "    }\n",
              "\n",
              "    .dataframe tbody tr th {\n",
              "        vertical-align: top;\n",
              "    }\n",
              "\n",
              "    .dataframe thead th {\n",
              "        text-align: right;\n",
              "    }\n",
              "</style>\n",
              "<table border=\"1\" class=\"dataframe\">\n",
              "  <thead>\n",
              "    <tr style=\"text-align: right;\">\n",
              "      <th></th>\n",
              "      <th>Loan_ID</th>\n",
              "      <th>Gender</th>\n",
              "      <th>Married</th>\n",
              "      <th>Dependents</th>\n",
              "      <th>Education</th>\n",
              "      <th>Self_Employed</th>\n",
              "      <th>ApplicantIncome</th>\n",
              "      <th>CoapplicantIncome</th>\n",
              "      <th>LoanAmount</th>\n",
              "      <th>Loan_Amount_Term</th>\n",
              "      <th>Credit_History</th>\n",
              "      <th>Property_Area</th>\n",
              "      <th>Loan_Status</th>\n",
              "    </tr>\n",
              "  </thead>\n",
              "  <tbody>\n",
              "    <tr>\n",
              "      <th>0</th>\n",
              "      <td>0</td>\n",
              "      <td>1</td>\n",
              "      <td>0</td>\n",
              "      <td>0</td>\n",
              "      <td>1</td>\n",
              "      <td>0</td>\n",
              "      <td>5849</td>\n",
              "      <td>0</td>\n",
              "      <td>120</td>\n",
              "      <td>360</td>\n",
              "      <td>1</td>\n",
              "      <td>2</td>\n",
              "      <td>1</td>\n",
              "    </tr>\n",
              "    <tr>\n",
              "      <th>1</th>\n",
              "      <td>1</td>\n",
              "      <td>1</td>\n",
              "      <td>1</td>\n",
              "      <td>1</td>\n",
              "      <td>1</td>\n",
              "      <td>0</td>\n",
              "      <td>4583</td>\n",
              "      <td>1508</td>\n",
              "      <td>128</td>\n",
              "      <td>360</td>\n",
              "      <td>1</td>\n",
              "      <td>0</td>\n",
              "      <td>0</td>\n",
              "    </tr>\n",
              "    <tr>\n",
              "      <th>2</th>\n",
              "      <td>2</td>\n",
              "      <td>1</td>\n",
              "      <td>1</td>\n",
              "      <td>0</td>\n",
              "      <td>1</td>\n",
              "      <td>1</td>\n",
              "      <td>3000</td>\n",
              "      <td>0</td>\n",
              "      <td>66</td>\n",
              "      <td>360</td>\n",
              "      <td>1</td>\n",
              "      <td>2</td>\n",
              "      <td>1</td>\n",
              "    </tr>\n",
              "    <tr>\n",
              "      <th>3</th>\n",
              "      <td>3</td>\n",
              "      <td>1</td>\n",
              "      <td>1</td>\n",
              "      <td>0</td>\n",
              "      <td>0</td>\n",
              "      <td>0</td>\n",
              "      <td>2583</td>\n",
              "      <td>2358</td>\n",
              "      <td>120</td>\n",
              "      <td>360</td>\n",
              "      <td>1</td>\n",
              "      <td>2</td>\n",
              "      <td>1</td>\n",
              "    </tr>\n",
              "    <tr>\n",
              "      <th>4</th>\n",
              "      <td>4</td>\n",
              "      <td>1</td>\n",
              "      <td>0</td>\n",
              "      <td>0</td>\n",
              "      <td>1</td>\n",
              "      <td>0</td>\n",
              "      <td>6000</td>\n",
              "      <td>0</td>\n",
              "      <td>141</td>\n",
              "      <td>360</td>\n",
              "      <td>1</td>\n",
              "      <td>2</td>\n",
              "      <td>1</td>\n",
              "    </tr>\n",
              "  </tbody>\n",
              "</table>\n",
              "</div>\n",
              "      <button class=\"colab-df-convert\" onclick=\"convertToInteractive('df-f35b5093-aa99-41ee-b20e-5a1a11933595')\"\n",
              "              title=\"Convert this dataframe to an interactive table.\"\n",
              "              style=\"display:none;\">\n",
              "        \n",
              "  <svg xmlns=\"http://www.w3.org/2000/svg\" height=\"24px\"viewBox=\"0 0 24 24\"\n",
              "       width=\"24px\">\n",
              "    <path d=\"M0 0h24v24H0V0z\" fill=\"none\"/>\n",
              "    <path d=\"M18.56 5.44l.94 2.06.94-2.06 2.06-.94-2.06-.94-.94-2.06-.94 2.06-2.06.94zm-11 1L8.5 8.5l.94-2.06 2.06-.94-2.06-.94L8.5 2.5l-.94 2.06-2.06.94zm10 10l.94 2.06.94-2.06 2.06-.94-2.06-.94-.94-2.06-.94 2.06-2.06.94z\"/><path d=\"M17.41 7.96l-1.37-1.37c-.4-.4-.92-.59-1.43-.59-.52 0-1.04.2-1.43.59L10.3 9.45l-7.72 7.72c-.78.78-.78 2.05 0 2.83L4 21.41c.39.39.9.59 1.41.59.51 0 1.02-.2 1.41-.59l7.78-7.78 2.81-2.81c.8-.78.8-2.07 0-2.86zM5.41 20L4 18.59l7.72-7.72 1.47 1.35L5.41 20z\"/>\n",
              "  </svg>\n",
              "      </button>\n",
              "      \n",
              "  <style>\n",
              "    .colab-df-container {\n",
              "      display:flex;\n",
              "      flex-wrap:wrap;\n",
              "      gap: 12px;\n",
              "    }\n",
              "\n",
              "    .colab-df-convert {\n",
              "      background-color: #E8F0FE;\n",
              "      border: none;\n",
              "      border-radius: 50%;\n",
              "      cursor: pointer;\n",
              "      display: none;\n",
              "      fill: #1967D2;\n",
              "      height: 32px;\n",
              "      padding: 0 0 0 0;\n",
              "      width: 32px;\n",
              "    }\n",
              "\n",
              "    .colab-df-convert:hover {\n",
              "      background-color: #E2EBFA;\n",
              "      box-shadow: 0px 1px 2px rgba(60, 64, 67, 0.3), 0px 1px 3px 1px rgba(60, 64, 67, 0.15);\n",
              "      fill: #174EA6;\n",
              "    }\n",
              "\n",
              "    [theme=dark] .colab-df-convert {\n",
              "      background-color: #3B4455;\n",
              "      fill: #D2E3FC;\n",
              "    }\n",
              "\n",
              "    [theme=dark] .colab-df-convert:hover {\n",
              "      background-color: #434B5C;\n",
              "      box-shadow: 0px 1px 3px 1px rgba(0, 0, 0, 0.15);\n",
              "      filter: drop-shadow(0px 1px 2px rgba(0, 0, 0, 0.3));\n",
              "      fill: #FFFFFF;\n",
              "    }\n",
              "  </style>\n",
              "\n",
              "      <script>\n",
              "        const buttonEl =\n",
              "          document.querySelector('#df-f35b5093-aa99-41ee-b20e-5a1a11933595 button.colab-df-convert');\n",
              "        buttonEl.style.display =\n",
              "          google.colab.kernel.accessAllowed ? 'block' : 'none';\n",
              "\n",
              "        async function convertToInteractive(key) {\n",
              "          const element = document.querySelector('#df-f35b5093-aa99-41ee-b20e-5a1a11933595');\n",
              "          const dataTable =\n",
              "            await google.colab.kernel.invokeFunction('convertToInteractive',\n",
              "                                                     [key], {});\n",
              "          if (!dataTable) return;\n",
              "\n",
              "          const docLinkHtml = 'Like what you see? Visit the ' +\n",
              "            '<a target=\"_blank\" href=https://colab.research.google.com/notebooks/data_table.ipynb>data table notebook</a>'\n",
              "            + ' to learn more about interactive tables.';\n",
              "          element.innerHTML = '';\n",
              "          dataTable['output_type'] = 'display_data';\n",
              "          await google.colab.output.renderOutput(dataTable, element);\n",
              "          const docLink = document.createElement('div');\n",
              "          docLink.innerHTML = docLinkHtml;\n",
              "          element.appendChild(docLink);\n",
              "        }\n",
              "      </script>\n",
              "    </div>\n",
              "  </div>\n",
              "  "
            ]
          },
          "metadata": {},
          "execution_count": 28
        }
      ]
    },
    {
      "cell_type": "code",
      "source": [
        "smote = SMOTETomek(0.90)\n",
        "\n",
        "y = data['Loan_Status']\n",
        "x = data.drop(columns=['Loan_Status'],axis=1)"
      ],
      "metadata": {
        "colab": {
          "base_uri": "https://localhost:8080/"
        },
        "id": "zanL991t0l6J",
        "outputId": "d6bb0808-855c-4b2e-bbea-076343d346cb"
      },
      "execution_count": 29,
      "outputs": [
        {
          "output_type": "stream",
          "name": "stderr",
          "text": [
            "/usr/local/lib/python3.7/dist-packages/imblearn/utils/_validation.py:591: FutureWarning: Pass sampling_strategy=0.9 as keyword args. From version 0.9 passing these as positional arguments will result in an error\n",
            "  FutureWarning,\n"
          ]
        }
      ]
    },
    {
      "cell_type": "code",
      "source": [
        "x_bal,y_bal = smote.fit_resample(x,y)\n",
        "print(y.value_counts())\n",
        "print(y_bal.value_counts())"
      ],
      "metadata": {
        "colab": {
          "base_uri": "https://localhost:8080/"
        },
        "id": "VhPHv-hW0mDk",
        "outputId": "26738755-bcd0-495e-946c-0195b77ec397"
      },
      "execution_count": 30,
      "outputs": [
        {
          "output_type": "stream",
          "name": "stdout",
          "text": [
            "1    422\n",
            "0    192\n",
            "Name: Loan_Status, dtype: int64\n",
            "1    364\n",
            "0    321\n",
            "Name: Loan_Status, dtype: int64\n"
          ]
        }
      ]
    },
    {
      "cell_type": "code",
      "source": [
        "scaler = StandardScaler()\n",
        "x_bal = scaler.fit_transform(x_bal)\n",
        "x_bal = pd.DataFrame(x_bal)\n",
        "x_bal.head()"
      ],
      "metadata": {
        "colab": {
          "base_uri": "https://localhost:8080/",
          "height": 206
        },
        "id": "GCA5mIm10mGb",
        "outputId": "e4c679b1-bf84-4ab0-a92a-2c7c4a0066c5"
      },
      "execution_count": 31,
      "outputs": [
        {
          "output_type": "execute_result",
          "data": {
            "text/plain": [
              "         0         1         2         3         4        5         6   \\\n",
              "0 -1.734879  0.545297 -1.167077 -0.716809  0.621804 -0.33198  0.132463   \n",
              "1 -1.729123  0.545297  0.856841  0.336870  0.621804 -0.33198 -0.100996   \n",
              "2 -1.723367  0.545297  0.856841 -0.716809  0.621804  3.01223 -0.392913   \n",
              "3 -1.717611  0.545297  0.856841 -0.716809 -1.608225 -0.33198 -0.469811   \n",
              "4 -1.711855  0.545297 -1.167077 -0.716809  0.621804 -0.33198  0.160308   \n",
              "\n",
              "         7         8         9         10        11  \n",
              "0 -0.530681 -0.283136  0.280903  0.583531  1.343807  \n",
              "1 -0.007486 -0.178807  0.280903  0.583531 -1.274992  \n",
              "2 -0.530681 -0.987358  0.280903  0.583531  1.343807  \n",
              "3  0.287418 -0.283136  0.280903  0.583531  1.343807  \n",
              "4 -0.530681 -0.009272  0.280903  0.583531  1.343807  "
            ],
            "text/html": [
              "\n",
              "  <div id=\"df-140eebf1-e191-4b07-ac51-45582a11693e\">\n",
              "    <div class=\"colab-df-container\">\n",
              "      <div>\n",
              "<style scoped>\n",
              "    .dataframe tbody tr th:only-of-type {\n",
              "        vertical-align: middle;\n",
              "    }\n",
              "\n",
              "    .dataframe tbody tr th {\n",
              "        vertical-align: top;\n",
              "    }\n",
              "\n",
              "    .dataframe thead th {\n",
              "        text-align: right;\n",
              "    }\n",
              "</style>\n",
              "<table border=\"1\" class=\"dataframe\">\n",
              "  <thead>\n",
              "    <tr style=\"text-align: right;\">\n",
              "      <th></th>\n",
              "      <th>0</th>\n",
              "      <th>1</th>\n",
              "      <th>2</th>\n",
              "      <th>3</th>\n",
              "      <th>4</th>\n",
              "      <th>5</th>\n",
              "      <th>6</th>\n",
              "      <th>7</th>\n",
              "      <th>8</th>\n",
              "      <th>9</th>\n",
              "      <th>10</th>\n",
              "      <th>11</th>\n",
              "    </tr>\n",
              "  </thead>\n",
              "  <tbody>\n",
              "    <tr>\n",
              "      <th>0</th>\n",
              "      <td>-1.734879</td>\n",
              "      <td>0.545297</td>\n",
              "      <td>-1.167077</td>\n",
              "      <td>-0.716809</td>\n",
              "      <td>0.621804</td>\n",
              "      <td>-0.33198</td>\n",
              "      <td>0.132463</td>\n",
              "      <td>-0.530681</td>\n",
              "      <td>-0.283136</td>\n",
              "      <td>0.280903</td>\n",
              "      <td>0.583531</td>\n",
              "      <td>1.343807</td>\n",
              "    </tr>\n",
              "    <tr>\n",
              "      <th>1</th>\n",
              "      <td>-1.729123</td>\n",
              "      <td>0.545297</td>\n",
              "      <td>0.856841</td>\n",
              "      <td>0.336870</td>\n",
              "      <td>0.621804</td>\n",
              "      <td>-0.33198</td>\n",
              "      <td>-0.100996</td>\n",
              "      <td>-0.007486</td>\n",
              "      <td>-0.178807</td>\n",
              "      <td>0.280903</td>\n",
              "      <td>0.583531</td>\n",
              "      <td>-1.274992</td>\n",
              "    </tr>\n",
              "    <tr>\n",
              "      <th>2</th>\n",
              "      <td>-1.723367</td>\n",
              "      <td>0.545297</td>\n",
              "      <td>0.856841</td>\n",
              "      <td>-0.716809</td>\n",
              "      <td>0.621804</td>\n",
              "      <td>3.01223</td>\n",
              "      <td>-0.392913</td>\n",
              "      <td>-0.530681</td>\n",
              "      <td>-0.987358</td>\n",
              "      <td>0.280903</td>\n",
              "      <td>0.583531</td>\n",
              "      <td>1.343807</td>\n",
              "    </tr>\n",
              "    <tr>\n",
              "      <th>3</th>\n",
              "      <td>-1.717611</td>\n",
              "      <td>0.545297</td>\n",
              "      <td>0.856841</td>\n",
              "      <td>-0.716809</td>\n",
              "      <td>-1.608225</td>\n",
              "      <td>-0.33198</td>\n",
              "      <td>-0.469811</td>\n",
              "      <td>0.287418</td>\n",
              "      <td>-0.283136</td>\n",
              "      <td>0.280903</td>\n",
              "      <td>0.583531</td>\n",
              "      <td>1.343807</td>\n",
              "    </tr>\n",
              "    <tr>\n",
              "      <th>4</th>\n",
              "      <td>-1.711855</td>\n",
              "      <td>0.545297</td>\n",
              "      <td>-1.167077</td>\n",
              "      <td>-0.716809</td>\n",
              "      <td>0.621804</td>\n",
              "      <td>-0.33198</td>\n",
              "      <td>0.160308</td>\n",
              "      <td>-0.530681</td>\n",
              "      <td>-0.009272</td>\n",
              "      <td>0.280903</td>\n",
              "      <td>0.583531</td>\n",
              "      <td>1.343807</td>\n",
              "    </tr>\n",
              "  </tbody>\n",
              "</table>\n",
              "</div>\n",
              "      <button class=\"colab-df-convert\" onclick=\"convertToInteractive('df-140eebf1-e191-4b07-ac51-45582a11693e')\"\n",
              "              title=\"Convert this dataframe to an interactive table.\"\n",
              "              style=\"display:none;\">\n",
              "        \n",
              "  <svg xmlns=\"http://www.w3.org/2000/svg\" height=\"24px\"viewBox=\"0 0 24 24\"\n",
              "       width=\"24px\">\n",
              "    <path d=\"M0 0h24v24H0V0z\" fill=\"none\"/>\n",
              "    <path d=\"M18.56 5.44l.94 2.06.94-2.06 2.06-.94-2.06-.94-.94-2.06-.94 2.06-2.06.94zm-11 1L8.5 8.5l.94-2.06 2.06-.94-2.06-.94L8.5 2.5l-.94 2.06-2.06.94zm10 10l.94 2.06.94-2.06 2.06-.94-2.06-.94-.94-2.06-.94 2.06-2.06.94z\"/><path d=\"M17.41 7.96l-1.37-1.37c-.4-.4-.92-.59-1.43-.59-.52 0-1.04.2-1.43.59L10.3 9.45l-7.72 7.72c-.78.78-.78 2.05 0 2.83L4 21.41c.39.39.9.59 1.41.59.51 0 1.02-.2 1.41-.59l7.78-7.78 2.81-2.81c.8-.78.8-2.07 0-2.86zM5.41 20L4 18.59l7.72-7.72 1.47 1.35L5.41 20z\"/>\n",
              "  </svg>\n",
              "      </button>\n",
              "      \n",
              "  <style>\n",
              "    .colab-df-container {\n",
              "      display:flex;\n",
              "      flex-wrap:wrap;\n",
              "      gap: 12px;\n",
              "    }\n",
              "\n",
              "    .colab-df-convert {\n",
              "      background-color: #E8F0FE;\n",
              "      border: none;\n",
              "      border-radius: 50%;\n",
              "      cursor: pointer;\n",
              "      display: none;\n",
              "      fill: #1967D2;\n",
              "      height: 32px;\n",
              "      padding: 0 0 0 0;\n",
              "      width: 32px;\n",
              "    }\n",
              "\n",
              "    .colab-df-convert:hover {\n",
              "      background-color: #E2EBFA;\n",
              "      box-shadow: 0px 1px 2px rgba(60, 64, 67, 0.3), 0px 1px 3px 1px rgba(60, 64, 67, 0.15);\n",
              "      fill: #174EA6;\n",
              "    }\n",
              "\n",
              "    [theme=dark] .colab-df-convert {\n",
              "      background-color: #3B4455;\n",
              "      fill: #D2E3FC;\n",
              "    }\n",
              "\n",
              "    [theme=dark] .colab-df-convert:hover {\n",
              "      background-color: #434B5C;\n",
              "      box-shadow: 0px 1px 3px 1px rgba(0, 0, 0, 0.15);\n",
              "      filter: drop-shadow(0px 1px 2px rgba(0, 0, 0, 0.3));\n",
              "      fill: #FFFFFF;\n",
              "    }\n",
              "  </style>\n",
              "\n",
              "      <script>\n",
              "        const buttonEl =\n",
              "          document.querySelector('#df-140eebf1-e191-4b07-ac51-45582a11693e button.colab-df-convert');\n",
              "        buttonEl.style.display =\n",
              "          google.colab.kernel.accessAllowed ? 'block' : 'none';\n",
              "\n",
              "        async function convertToInteractive(key) {\n",
              "          const element = document.querySelector('#df-140eebf1-e191-4b07-ac51-45582a11693e');\n",
              "          const dataTable =\n",
              "            await google.colab.kernel.invokeFunction('convertToInteractive',\n",
              "                                                     [key], {});\n",
              "          if (!dataTable) return;\n",
              "\n",
              "          const docLinkHtml = 'Like what you see? Visit the ' +\n",
              "            '<a target=\"_blank\" href=https://colab.research.google.com/notebooks/data_table.ipynb>data table notebook</a>'\n",
              "            + ' to learn more about interactive tables.';\n",
              "          element.innerHTML = '';\n",
              "          dataTable['output_type'] = 'display_data';\n",
              "          await google.colab.output.renderOutput(dataTable, element);\n",
              "          const docLink = document.createElement('div');\n",
              "          docLink.innerHTML = docLinkHtml;\n",
              "          element.appendChild(docLink);\n",
              "        }\n",
              "      </script>\n",
              "    </div>\n",
              "  </div>\n",
              "  "
            ]
          },
          "metadata": {},
          "execution_count": 31
        }
      ]
    },
    {
      "cell_type": "markdown",
      "source": [
        "Splitting of Data into Train and Test"
      ],
      "metadata": {
        "id": "Gkp1jAcX2FPM"
      }
    },
    {
      "cell_type": "code",
      "source": [
        "x_train, x_test, y_train, y_test = train_test_split(x_bal, y_bal, test_size = 0.33, random_state = 30)"
      ],
      "metadata": {
        "id": "dFspRuDx0mIi"
      },
      "execution_count": 32,
      "outputs": []
    },
    {
      "cell_type": "markdown",
      "source": [
        "Compare The Model"
      ],
      "metadata": {
        "id": "VshW3DoT2K2f"
      }
    },
    {
      "cell_type": "markdown",
      "source": [
        "Random Forest \n"
      ],
      "metadata": {
        "id": "3dJbF0x4E6nZ"
      }
    },
    {
      "cell_type": "code",
      "source": [
        "def randomForestClassifier(x_train, x_test, y_train, y_test):\n",
        "    rf = RandomForestClassifier() \n",
        "    rf.fit(x_train,y_train)\n",
        "    yPred = rf.predict(x_test)\n",
        "    print(\"RandomForestClassifier\") \n",
        "    print(\"Confusion matrix\")\n",
        "    print(confusion_matrix(y_test ,yPred) ) \n",
        "    print(\"Classification report\")\n",
        "    print(classification_report (y_test, yPred))\n",
        "    y_pred=rf.predict(x_test)\n",
        "    y_pred1=rf.predict(x_train)\n",
        "    random_forest_test_accuracy = accuracy_score(y_test,y_pred)\n",
        "    random_forest_train_accuracy = accuracy_score(y_train,y_pred1)\n",
        "    print('Testing accuracy: ', random_forest_test_accuracy)\n",
        "    print('Training accuracy: ',random_forest_train_accuracy)\n",
        "\n",
        "randomForestClassifier(x_train, x_test, y_train, y_test)"
      ],
      "metadata": {
        "colab": {
          "base_uri": "https://localhost:8080/"
        },
        "id": "xTzietEnE8KA",
        "outputId": "6caf877a-2689-47bf-8f42-e437a778fd3a"
      },
      "execution_count": 33,
      "outputs": [
        {
          "output_type": "stream",
          "name": "stdout",
          "text": [
            "RandomForestClassifier\n",
            "Confusion matrix\n",
            "[[ 83  30]\n",
            " [ 11 103]]\n",
            "Classification report\n",
            "              precision    recall  f1-score   support\n",
            "\n",
            "           0       0.88      0.73      0.80       113\n",
            "           1       0.77      0.90      0.83       114\n",
            "\n",
            "    accuracy                           0.82       227\n",
            "   macro avg       0.83      0.82      0.82       227\n",
            "weighted avg       0.83      0.82      0.82       227\n",
            "\n",
            "Testing accuracy:  0.8193832599118943\n",
            "Training accuracy:  1.0\n"
          ]
        }
      ]
    },
    {
      "cell_type": "markdown",
      "source": [
        "Decision Tree "
      ],
      "metadata": {
        "id": "K5iLfEbvE_gP"
      }
    },
    {
      "cell_type": "code",
      "source": [
        "def decisionTreeClassifier(x_train, x_test, y_train, y_test):\n",
        "    dt = DecisionTreeClassifier() \n",
        "    dt.fit(x_train,y_train)\n",
        "    yPred = dt.predict(x_test)\n",
        "    print(\"DecisionTreeClassifier\") \n",
        "    print(\"Confusion matrix\")\n",
        "    print(confusion_matrix(y_test ,yPred) ) \n",
        "    print(\"Classification report\")\n",
        "    print(classification_report (y_test, yPred))\n",
        "    y_pred=dt.predict(x_test)\n",
        "    y_pred1=dt.predict(x_train)\n",
        "    decision_tree_test_accuracy = accuracy_score(y_test,y_pred)\n",
        "    decision_tree_train_accuracy = accuracy_score(y_train,y_pred1)\n",
        "    print('Testing accuracy: ', decision_tree_test_accuracy)\n",
        "    print('Training accuracy: ', decision_tree_train_accuracy)\n",
        "\n",
        "decisionTreeClassifier(x_train, x_test, y_train, y_test)"
      ],
      "metadata": {
        "colab": {
          "base_uri": "https://localhost:8080/"
        },
        "id": "pVXdOoKkE8zU",
        "outputId": "7eccc3b9-955e-4b23-c348-a84f416b57a5"
      },
      "execution_count": 34,
      "outputs": [
        {
          "output_type": "stream",
          "name": "stdout",
          "text": [
            "DecisionTreeClassifier\n",
            "Confusion matrix\n",
            "[[84 29]\n",
            " [30 84]]\n",
            "Classification report\n",
            "              precision    recall  f1-score   support\n",
            "\n",
            "           0       0.74      0.74      0.74       113\n",
            "           1       0.74      0.74      0.74       114\n",
            "\n",
            "    accuracy                           0.74       227\n",
            "   macro avg       0.74      0.74      0.74       227\n",
            "weighted avg       0.74      0.74      0.74       227\n",
            "\n",
            "Testing accuracy:  0.7400881057268722\n",
            "Training accuracy:  1.0\n"
          ]
        }
      ]
    },
    {
      "cell_type": "markdown",
      "source": [
        "KNN"
      ],
      "metadata": {
        "id": "mTF-QcUYFB-w"
      }
    },
    {
      "cell_type": "code",
      "source": [
        "def kneighborsClassifier(x_train, x_test, y_train, y_test):\n",
        "    knn = KNeighborsClassifier() \n",
        "    knn.fit(x_train,y_train)\n",
        "    yPred = knn.predict(x_test)\n",
        "    print(\"KNN\") \n",
        "    print(\"Confusion matrix\")\n",
        "    print(confusion_matrix(y_test ,yPred) ) \n",
        "    print(\"Classification report\")\n",
        "    print(classification_report (y_test, yPred))\n",
        "    y_pred=knn.predict(x_test)\n",
        "    y_pred1=knn.predict(x_train)\n",
        "    knn_test_accuracy = accuracy_score(y_test,y_pred)\n",
        "    knn_train_accuracy = accuracy_score(y_train,y_pred1)\n",
        "    print('Testing accuracy: ',knn_test_accuracy)\n",
        "    print('Training accuracy: ', knn_train_accuracy)\n",
        "\n",
        "kneighborsClassifier(x_train, x_test, y_train, y_test)"
      ],
      "metadata": {
        "colab": {
          "base_uri": "https://localhost:8080/"
        },
        "id": "jmiOHV9lE8w8",
        "outputId": "e2e8425e-4ce9-4985-cddc-9c07e617406f"
      },
      "execution_count": 35,
      "outputs": [
        {
          "output_type": "stream",
          "name": "stdout",
          "text": [
            "KNN\n",
            "Confusion matrix\n",
            "[[73 40]\n",
            " [16 98]]\n",
            "Classification report\n",
            "              precision    recall  f1-score   support\n",
            "\n",
            "           0       0.82      0.65      0.72       113\n",
            "           1       0.71      0.86      0.78       114\n",
            "\n",
            "    accuracy                           0.75       227\n",
            "   macro avg       0.77      0.75      0.75       227\n",
            "weighted avg       0.76      0.75      0.75       227\n",
            "\n",
            "Testing accuracy:  0.7533039647577092\n",
            "Training accuracy:  0.8078602620087336\n"
          ]
        }
      ]
    },
    {
      "cell_type": "markdown",
      "source": [
        "Xgboost"
      ],
      "metadata": {
        "id": "38judu77FFGR"
      }
    },
    {
      "cell_type": "code",
      "source": [
        "def xgboost(x_train, x_test, y_train, y_test):\n",
        "    xg = GradientBoostingClassifier() \n",
        "    xg.fit(x_train,y_train)\n",
        "    yPred = xg.predict(x_test)\n",
        "    print(\"Xgboost\") \n",
        "    print(\"Confusion matrix\")\n",
        "    print(confusion_matrix(y_test ,yPred) ) \n",
        "    print(\"Classification report\")\n",
        "    print(classification_report (y_test, yPred))\n",
        "    y_pred=xg.predict(x_test)\n",
        "    y_pred1=xg.predict(x_train)\n",
        "    xgboost_test_accuracy = accuracy_score(y_test,y_pred)\n",
        "    xgboost_train_accuracy = accuracy_score(y_train,y_pred1)\n",
        "    print('Testing accuracy: ', xgboost_test_accuracy)\n",
        "    print('Training accuracy: ', xgboost_train_accuracy)\n",
        "  \n",
        "xgboost(x_train, x_test, y_train, y_test)"
      ],
      "metadata": {
        "colab": {
          "base_uri": "https://localhost:8080/"
        },
        "id": "C5olzEZqE8vE",
        "outputId": "455918a8-2a7e-45c2-a790-c3b95b2eef82"
      },
      "execution_count": 36,
      "outputs": [
        {
          "output_type": "stream",
          "name": "stdout",
          "text": [
            "Xgboost\n",
            "Confusion matrix\n",
            "[[ 76  37]\n",
            " [ 11 103]]\n",
            "Classification report\n",
            "              precision    recall  f1-score   support\n",
            "\n",
            "           0       0.87      0.67      0.76       113\n",
            "           1       0.74      0.90      0.81       114\n",
            "\n",
            "    accuracy                           0.79       227\n",
            "   macro avg       0.80      0.79      0.79       227\n",
            "weighted avg       0.80      0.79      0.79       227\n",
            "\n",
            "Testing accuracy:  0.788546255506608\n",
            "Training accuracy:  0.9475982532751092\n"
          ]
        }
      ]
    },
    {
      "cell_type": "code",
      "source": [
        "randomForestClassifier(x_train, x_test, y_train, y_test)\n",
        "decisionTreeClassifier(x_train, x_test, y_train, y_test)\n",
        "kneighborsClassifier(x_train, x_test, y_train, y_test)\n",
        "xgboost(x_train, x_test, y_train, y_test)"
      ],
      "metadata": {
        "colab": {
          "base_uri": "https://localhost:8080/"
        },
        "id": "K3zNtjBWE8tO",
        "outputId": "7f9d0ba6-e152-4a51-d7f6-9f2ffcf305e1"
      },
      "execution_count": 37,
      "outputs": [
        {
          "output_type": "stream",
          "name": "stdout",
          "text": [
            "RandomForestClassifier\n",
            "Confusion matrix\n",
            "[[ 81  32]\n",
            " [ 12 102]]\n",
            "Classification report\n",
            "              precision    recall  f1-score   support\n",
            "\n",
            "           0       0.87      0.72      0.79       113\n",
            "           1       0.76      0.89      0.82       114\n",
            "\n",
            "    accuracy                           0.81       227\n",
            "   macro avg       0.82      0.81      0.80       227\n",
            "weighted avg       0.82      0.81      0.80       227\n",
            "\n",
            "Testing accuracy:  0.8061674008810573\n",
            "Training accuracy:  1.0\n",
            "DecisionTreeClassifier\n",
            "Confusion matrix\n",
            "[[83 30]\n",
            " [30 84]]\n",
            "Classification report\n",
            "              precision    recall  f1-score   support\n",
            "\n",
            "           0       0.73      0.73      0.73       113\n",
            "           1       0.74      0.74      0.74       114\n",
            "\n",
            "    accuracy                           0.74       227\n",
            "   macro avg       0.74      0.74      0.74       227\n",
            "weighted avg       0.74      0.74      0.74       227\n",
            "\n",
            "Testing accuracy:  0.73568281938326\n",
            "Training accuracy:  1.0\n",
            "KNN\n",
            "Confusion matrix\n",
            "[[73 40]\n",
            " [16 98]]\n",
            "Classification report\n",
            "              precision    recall  f1-score   support\n",
            "\n",
            "           0       0.82      0.65      0.72       113\n",
            "           1       0.71      0.86      0.78       114\n",
            "\n",
            "    accuracy                           0.75       227\n",
            "   macro avg       0.77      0.75      0.75       227\n",
            "weighted avg       0.76      0.75      0.75       227\n",
            "\n",
            "Testing accuracy:  0.7533039647577092\n",
            "Training accuracy:  0.8078602620087336\n",
            "Xgboost\n",
            "Confusion matrix\n",
            "[[ 76  37]\n",
            " [ 11 103]]\n",
            "Classification report\n",
            "              precision    recall  f1-score   support\n",
            "\n",
            "           0       0.87      0.67      0.76       113\n",
            "           1       0.74      0.90      0.81       114\n",
            "\n",
            "    accuracy                           0.79       227\n",
            "   macro avg       0.80      0.79      0.79       227\n",
            "weighted avg       0.80      0.79      0.79       227\n",
            "\n",
            "Testing accuracy:  0.788546255506608\n",
            "Training accuracy:  0.9475982532751092\n"
          ]
        }
      ]
    },
    {
      "cell_type": "markdown",
      "source": [
        "By comparing the accuracy of all the models we can see that random forest model is giving better accuracy\n",
        "Hence random forest model is choosen for further steps"
      ],
      "metadata": {
        "id": "dQc3QjGhF3II"
      }
    },
    {
      "cell_type": "markdown",
      "source": [
        "Evaluating Performance Of The Model And Saving The Model"
      ],
      "metadata": {
        "id": "HP5XXRwyHO3Q"
      }
    },
    {
      "cell_type": "code",
      "source": [
        "from sklearn.model_selection import cross_val_score\n",
        "rf = RandomForestClassifier() \n",
        "rf.fit(x_train,y_train)\n",
        "yPred = rf.predict(x_test)\n",
        "f1_score(yPred,y_test, average='weighted')\n",
        "cv = cross_val_score(rf,x,y,cv=5)\n",
        "np.mean(cv)"
      ],
      "metadata": {
        "id": "e15NKBPQHOdr",
        "colab": {
          "base_uri": "https://localhost:8080/"
        },
        "outputId": "9cb20ecb-38cc-4860-9703-0cfb0ad1d76c"
      },
      "execution_count": 42,
      "outputs": [
        {
          "output_type": "execute_result",
          "data": {
            "text/plain": [
              "0.7703052112488338"
            ]
          },
          "metadata": {},
          "execution_count": 42
        }
      ]
    },
    {
      "cell_type": "code",
      "source": [
        "import pickle\n",
        "pickle.dump(rf, open('model.pkl','wb'))"
      ],
      "metadata": {
        "id": "7yeFlaV8HObP"
      },
      "execution_count": 43,
      "outputs": []
    },
    {
      "cell_type": "code",
      "source": [
        "loaded_rf = pickle.load(open('model.pkl','rb'))\n",
        "loaded_rf.predict(x_test)"
      ],
      "metadata": {
        "id": "gL491bysHOYf",
        "colab": {
          "base_uri": "https://localhost:8080/"
        },
        "outputId": "a04183de-50fb-440e-8d71-c609642d05a0"
      },
      "execution_count": 44,
      "outputs": [
        {
          "output_type": "execute_result",
          "data": {
            "text/plain": [
              "array([1, 1, 1, 1, 0, 0, 0, 0, 1, 1, 1, 0, 1, 1, 1, 1, 0, 1, 1, 1, 1, 0,\n",
              "       0, 0, 1, 1, 1, 1, 1, 1, 1, 1, 0, 0, 1, 0, 1, 1, 1, 0, 0, 0, 1, 1,\n",
              "       1, 1, 0, 0, 0, 1, 1, 1, 1, 0, 0, 1, 0, 0, 1, 0, 1, 1, 0, 0, 0, 0,\n",
              "       0, 1, 0, 1, 0, 1, 0, 1, 1, 1, 1, 1, 1, 0, 0, 0, 1, 1, 0, 1, 0, 1,\n",
              "       1, 0, 1, 1, 1, 1, 0, 1, 1, 1, 1, 0, 1, 0, 0, 1, 0, 1, 1, 1, 0, 1,\n",
              "       0, 1, 0, 0, 1, 0, 0, 0, 1, 1, 1, 0, 1, 1, 0, 0, 0, 0, 0, 1, 0, 1,\n",
              "       1, 1, 1, 1, 1, 0, 0, 1, 1, 1, 1, 0, 0, 1, 0, 0, 1, 1, 1, 1, 1, 1,\n",
              "       1, 0, 1, 1, 1, 1, 1, 1, 1, 0, 1, 1, 1, 0, 0, 1, 0, 1, 0, 1, 1, 1,\n",
              "       1, 1, 1, 1, 1, 1, 0, 1, 0, 0, 0, 0, 0, 1, 0, 1, 1, 0, 0, 1, 0, 0,\n",
              "       0, 1, 0, 1, 0, 0, 1, 1, 0, 0, 1, 1, 1, 1, 1, 0, 1, 0, 1, 1, 0, 0,\n",
              "       0, 1, 1, 1, 1, 0, 0])"
            ]
          },
          "metadata": {},
          "execution_count": 44
        }
      ]
    }
  ]
}